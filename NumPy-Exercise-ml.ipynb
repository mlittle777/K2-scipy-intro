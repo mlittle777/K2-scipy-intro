{
 "cells": [
  {
   "cell_type": "markdown",
   "metadata": {},
   "source": [
    "# NumPy Exercise\n",
    "NumPy is the fundamental package for scientific computing in Python. It is a Python library that provides a multidimensional array object, various derived objects (such as masked arrays and matrices), and an assortment of routines for fast operations on arrays, including mathematical, logical, shape manipulation, sorting, selecting, I/O, discrete Fourier transforms, basic linear algebra, basic statistical operations, random simulation and much more.\n",
    "\n",
    "At the core of the NumPy package, is the ndarray object. This encapsulates n-dimensional arrays of homogeneous data types, with many operations being performed in compiled code for performance. There are several important differences between NumPy arrays and the standard Python sequences:\n",
    "\n",
    "- NumPy arrays have a fixed size at creation, unlike Python lists (which can grow dynamically). Changing the size of an ndarray will create a new array and delete the original.\n",
    "- The elements in a NumPy array are all required to be of the same data type, and thus will be the same size in memory. The exception: one can have arrays of (Python, including NumPy) objects, thereby allowing for arrays of different sized elements.\n",
    "- NumPy arrays facilitate advanced mathematical and other types of operations on large numbers of data. Typically, such operations are executed more efficiently and with less code than is possible using Python’s built-in sequences.\n",
    "- A growing plethora of scientific and mathematical Python-based packages are using NumPy arrays; though these typically support Python-sequence input, they convert such input to NumPy arrays prior to processing, and they often output NumPy arrays. In other words, in order to efficiently use much (perhaps even most) of today’s scientific/mathematical Python-based software, just knowing how to use Python’s built-in sequence types is insufficient - one also needs to know how to use NumPy arrays.\n",
    "\n",
    "Using only NumPy, perform the following.\n",
    "\n",
    "1. Create an array of the form $b = \\begin{bmatrix} 1 \\\\ 2 \\end{bmatrix}$\n",
    "1. Create a 2x2 array of the form $X = \\begin{bmatrix} 1 & 2 \\\\ 3 & 4 \\end{bmatrix}$\n",
    "1. Multiply the two arrays element wise, then using matrix multiplication, and finally the inner product of $b \\bullet b$.\n",
    "1. For each of your results in part (3), print the shape and data type.\n",
    "1. Reshape (or flatten), the array $X$ such that it consists of only 1 row.\n",
    "1. Create an array of the integers 1 to 10, inclusive, setting the datatype to float.\n",
    "1. Create a 10x10 identity matrix using the built in numpy function.\n",
    "1. Create a 10x10 identity matrix using a for loop."
   ]
  },
  {
   "cell_type": "code",
   "execution_count": 1,
   "metadata": {
    "collapsed": true
   },
   "outputs": [],
   "source": [
    "import numpy as np"
   ]
  },
  {
   "cell_type": "code",
   "execution_count": 2,
   "metadata": {},
   "outputs": [
    {
     "data": {
      "text/plain": [
       "array([1, 2])"
      ]
     },
     "execution_count": 2,
     "metadata": {},
     "output_type": "execute_result"
    }
   ],
   "source": [
    "# 1.\n",
    "b = np.array([1,2])\n",
    "b"
   ]
  },
  {
   "cell_type": "code",
   "execution_count": 3,
   "metadata": {},
   "outputs": [
    {
     "data": {
      "text/plain": [
       "array([[1, 3],\n",
       "       [2, 4]])"
      ]
     },
     "execution_count": 3,
     "metadata": {},
     "output_type": "execute_result"
    }
   ],
   "source": [
    "# 2.\n",
    "X = np.array([[1, 3], [2, 4]])\n",
    "X"
   ]
  },
  {
   "cell_type": "code",
   "execution_count": 4,
   "metadata": {},
   "outputs": [
    {
     "name": "stdout",
     "output_type": "stream",
     "text": [
      "[[1 6]\n",
      " [2 8]]\n"
     ]
    }
   ],
   "source": [
    "# 3.\n",
    "y1 = b * X # element wise\n",
    "print(y1)\n"
   ]
  },
  {
   "cell_type": "code",
   "execution_count": 5,
   "metadata": {},
   "outputs": [
    {
     "name": "stdout",
     "output_type": "stream",
     "text": [
      "[ 5 11]\n"
     ]
    }
   ],
   "source": [
    "y2 = np.matmul(b, X) # matrix multiplication\n",
    "print(y2)"
   ]
  },
  {
   "cell_type": "code",
   "execution_count": 6,
   "metadata": {},
   "outputs": [
    {
     "name": "stdout",
     "output_type": "stream",
     "text": [
      "5\n"
     ]
    }
   ],
   "source": [
    "y3 = np.inner(b, b) # inner product\n",
    "print( y3)"
   ]
  },
  {
   "cell_type": "code",
   "execution_count": 7,
   "metadata": {},
   "outputs": [
    {
     "name": "stdout",
     "output_type": "stream",
     "text": [
      "(2, 2) int64\n",
      "(2,) int64\n",
      "() int64\n"
     ]
    }
   ],
   "source": [
    "# 4. \n",
    "print(y1.shape, y1.dtype)\n",
    "print(y2.shape, y2.dtype)\n",
    "print(y3.shape, y3.dtype)"
   ]
  },
  {
   "cell_type": "code",
   "execution_count": 8,
   "metadata": {},
   "outputs": [
    {
     "name": "stdout",
     "output_type": "stream",
     "text": [
      "[[1 3 2 4]]\n"
     ]
    }
   ],
   "source": [
    "# 5.\n",
    "X.shape = (1,4)\n",
    "print(X)"
   ]
  },
  {
   "cell_type": "code",
   "execution_count": 9,
   "metadata": {},
   "outputs": [
    {
     "data": {
      "text/plain": [
       "array([  1.,   2.,   3.,   4.,   5.,   6.,   7.,   8.,   9.,  10.])"
      ]
     },
     "execution_count": 9,
     "metadata": {},
     "output_type": "execute_result"
    }
   ],
   "source": [
    "# 6.\n",
    "a = np.array(np.arange(1,11, dtype=\"float\"))\n",
    "a"
   ]
  },
  {
   "cell_type": "code",
   "execution_count": 10,
   "metadata": {},
   "outputs": [
    {
     "name": "stdout",
     "output_type": "stream",
     "text": [
      "[[ 1.  0.  0.  0.  0.  0.  0.  0.  0.  0.]\n",
      " [ 0.  1.  0.  0.  0.  0.  0.  0.  0.  0.]\n",
      " [ 0.  0.  1.  0.  0.  0.  0.  0.  0.  0.]\n",
      " [ 0.  0.  0.  1.  0.  0.  0.  0.  0.  0.]\n",
      " [ 0.  0.  0.  0.  1.  0.  0.  0.  0.  0.]\n",
      " [ 0.  0.  0.  0.  0.  1.  0.  0.  0.  0.]\n",
      " [ 0.  0.  0.  0.  0.  0.  1.  0.  0.  0.]\n",
      " [ 0.  0.  0.  0.  0.  0.  0.  1.  0.  0.]\n",
      " [ 0.  0.  0.  0.  0.  0.  0.  0.  1.  0.]\n",
      " [ 0.  0.  0.  0.  0.  0.  0.  0.  0.  1.]]\n"
     ]
    }
   ],
   "source": [
    "# 7.\n",
    "i = np.identity(10)\n",
    "print(i)"
   ]
  },
  {
   "cell_type": "code",
   "execution_count": 11,
   "metadata": {},
   "outputs": [
    {
     "name": "stdout",
     "output_type": "stream",
     "text": [
      "[[ 1.  0.  0.  0.  0.  0.  0.  0.  0.  0.]\n",
      " [ 0.  1.  0.  0.  0.  0.  0.  0.  0.  0.]\n",
      " [ 0.  0.  1.  0.  0.  0.  0.  0.  0.  0.]\n",
      " [ 0.  0.  0.  1.  0.  0.  0.  0.  0.  0.]\n",
      " [ 0.  0.  0.  0.  1.  0.  0.  0.  0.  0.]\n",
      " [ 0.  0.  0.  0.  0.  1.  0.  0.  0.  0.]\n",
      " [ 0.  0.  0.  0.  0.  0.  1.  0.  0.  0.]\n",
      " [ 0.  0.  0.  0.  0.  0.  0.  1.  0.  0.]\n",
      " [ 0.  0.  0.  0.  0.  0.  0.  0.  1.  0.]\n",
      " [ 0.  0.  0.  0.  0.  0.  0.  0.  0.  1.]]\n"
     ]
    }
   ],
   "source": [
    "# 8:\n",
    "i0 = np.array(np.zeros(100, dtype = \"float\"))\n",
    "i0.shape = (10,10)\n",
    "for r in range((len(i0))):\n",
    "    for c in range((len(i0))):\n",
    "        if r == c:\n",
    "            i0[r, c] = 1\n",
    "print(i0)"
   ]
  },
  {
   "cell_type": "code",
   "execution_count": 12,
   "metadata": {},
   "outputs": [
    {
     "name": "stdout",
     "output_type": "stream",
     "text": [
      "[[ 1.  0.  0.  0.  0.  0.  0.  0.  0.  0.]\n",
      " [ 0.  1.  0.  0.  0.  0.  0.  0.  0.  0.]\n",
      " [ 0.  0.  1.  0.  0.  0.  0.  0.  0.  0.]\n",
      " [ 0.  0.  0.  1.  0.  0.  0.  0.  0.  0.]\n",
      " [ 0.  0.  0.  0.  1.  0.  0.  0.  0.  0.]\n",
      " [ 0.  0.  0.  0.  0.  1.  0.  0.  0.  0.]\n",
      " [ 0.  0.  0.  0.  0.  0.  1.  0.  0.  0.]\n",
      " [ 0.  0.  0.  0.  0.  0.  0.  1.  0.  0.]\n",
      " [ 0.  0.  0.  0.  0.  0.  0.  0.  1.  0.]\n",
      " [ 0.  0.  0.  0.  0.  0.  0.  0.  0.  1.]]\n"
     ]
    }
   ],
   "source": [
    "# 8. also\n",
    "I = []\n",
    "for i in np.arange(10):\n",
    "    row = []\n",
    "    for j in np.arange(10):\n",
    "        if i == j:\n",
    "            row.append(1.0)\n",
    "        else:\n",
    "            row.append(0.0)\n",
    "    I.append(row)\n",
    "I = np.array(I)\n",
    "I.shape = (10, 10)\n",
    "print(I)"
   ]
  },
  {
   "cell_type": "markdown",
   "metadata": {},
   "source": [
    "1. (9.) Generate a set of random data, $X$, drawn from a normal distribution, consisting of 9 columns of 100 rows each, then attach a column of all ones, resulting in a 100x10 matrix for $X$.  Next generate a random array $\\beta$, drawn from a uniform distribution, of length 10.  Also make an array, $\\epsilon$ of length 100, drawn from a normal distribution.  Finally, compute a **vector (i.e. 1d)**  $\\vec{y}$ such that $\\vec{y} = X\\beta + \\epsilon$.  Be sure to set the random seed to 0 before drawing any random numbers.  All random numbers should be on the interval [0, 1).\n",
    "1. (10.) Using the **vector** $\\vec{y}$ computed in part 9, create a **vector** $\\vec{c}$ containing the labels \"positive\" or \"negative\" for each value in $\\vec{y}$, treating 0 as positive.  **Bonus:** Do it with a one-liner.\n",
    "1. (11.) Using the classes generated in part 10, separate the **matrix X** into two smaller matricies, $X_p$, $X_n$, containing only rows which map (based on $\\vec{c}$) to positive or negative values (of $\\vec{y}$) respectively.\n"
   ]
  },
  {
   "cell_type": "code",
   "execution_count": 13,
   "metadata": {},
   "outputs": [
    {
     "name": "stdout",
     "output_type": "stream",
     "text": [
      "<class 'numpy.ndarray'> (100, 10) <class 'numpy.ndarray'> (10,) <class 'numpy.ndarray'> (100,)\n",
      "<class 'numpy.ndarray'> (100,)\n",
      "[ 4.50742931  2.7953309   2.50990382  0.72711353 -0.55795377 -3.6852123\n",
      "  0.91223289 -3.8475753  -1.74887896  4.4354175   3.9086895   0.67211075\n",
      "  6.54791529  2.32929016  0.0765048   2.83915352  5.40276156  0.57102897\n",
      "  2.65093747  1.3110547  -4.71444164  2.25115561  3.18233489  2.25998565\n",
      "  2.12886726 -1.37191333 -1.13572294 -1.76959282 -1.17168521 -1.96574839\n",
      " -0.78974907  4.47291802  0.77965817 -0.67518938 -1.00617165  0.71752483\n",
      "  3.43862788  2.00563305  0.0833862  -1.9233482   1.87655674  2.49658476\n",
      " -0.91693802 -1.23425965  1.58451936  0.91921655  5.89773814  0.08330009\n",
      "  3.00867436  0.12093446  1.5061099   0.19010558  3.07068766 -1.06929085\n",
      "  4.71524531  1.37959766  0.85658077  2.12660989 -3.22830256 -0.1433495\n",
      "  1.46923122  2.20561872 -0.7246426   3.50911064 -1.14312604  1.0670432\n",
      " -0.53785087 -0.47112064  4.85863097  1.36347532 -0.27997184  1.72962232\n",
      " -0.19354309 -1.91973735 -2.17096527  3.89734667  0.10812128  0.12550007\n",
      "  3.113158    2.22103072 -0.75541223  0.63598036  0.331112    3.28706348\n",
      "  1.26745099  1.20814356  0.63063272 -0.47149198 -1.03058786  1.92765594\n",
      "  1.76389827  1.20401383  1.84053765  3.70379836 -1.14961584  1.36948819\n",
      "  1.50206114 -1.00797495 -0.67601009  0.26845673]\n"
     ]
    }
   ],
   "source": [
    "# 1.(9.)\n",
    "np.random.seed(0)\n",
    "X = np.concatenate((np.ones((100,1)), np.random.randn(100,9)), axis=1) \n",
    "B = np.random.rand(10)\n",
    "e = np.random.randn(100) \n",
    "# since we used np to generate these, they will all be ndarrays\n",
    "print(type(X), X.shape, type(B), B.shape, type(e), e.shape)\n",
    "\n",
    "y = np.matmul(X,B) + e\n",
    "print(type(y), y.shape) #y is also thus a ndarray, but one dim vector\n",
    "print(y)"
   ]
  },
  {
   "cell_type": "code",
   "execution_count": 14,
   "metadata": {},
   "outputs": [
    {
     "name": "stdout",
     "output_type": "stream",
     "text": [
      "<class 'numpy.ndarray'>\n",
      "['positive' 'positive' 'positive' 'positive' 'negative' 'negative'\n",
      " 'positive' 'negative' 'negative' 'positive' 'positive' 'positive'\n",
      " 'positive' 'positive' 'positive' 'positive' 'positive' 'positive'\n",
      " 'positive' 'positive' 'negative' 'positive' 'positive' 'positive'\n",
      " 'positive' 'negative' 'negative' 'negative' 'negative' 'negative'\n",
      " 'negative' 'positive' 'positive' 'negative' 'negative' 'positive'\n",
      " 'positive' 'positive' 'positive' 'negative' 'positive' 'positive'\n",
      " 'negative' 'negative' 'positive' 'positive' 'positive' 'positive'\n",
      " 'positive' 'positive' 'positive' 'positive' 'positive' 'negative'\n",
      " 'positive' 'positive' 'positive' 'positive' 'negative' 'negative'\n",
      " 'positive' 'positive' 'negative' 'positive' 'negative' 'positive'\n",
      " 'negative' 'negative' 'positive' 'positive' 'negative' 'positive'\n",
      " 'negative' 'negative' 'negative' 'positive' 'positive' 'positive'\n",
      " 'positive' 'positive' 'negative' 'positive' 'positive' 'positive'\n",
      " 'positive' 'positive' 'positive' 'negative' 'negative' 'positive'\n",
      " 'positive' 'positive' 'positive' 'positive' 'negative' 'positive'\n",
      " 'positive' 'negative' 'negative' 'positive']\n",
      "(100, 10) (100,)\n"
     ]
    }
   ],
   "source": [
    "# 2. (10.) \n",
    "#one-liner I did, creates ndarray 1d\n",
    "c = np.where(y < 0, \"negative\", \"positive\")\n",
    "\n",
    "#alternate one-liner from solution; note c here is short for \"class\" NB: a list, not ndarray\n",
    "#c = [\"positive\" if val >= 0 else \"negative\" for val in y]\n",
    "\n",
    "# long-form\n",
    "#c =[]\n",
    "#for val in y:\n",
    "#    if val >=0:\n",
    "#        c.append(\"positive\")\n",
    "#    else:\n",
    "#        c.append(\"negative\")\n",
    "\n",
    "print(type(c))\n",
    "print(c)\n",
    "print(X.shape, c.shape)"
   ]
  },
  {
   "cell_type": "code",
   "execution_count": 15,
   "metadata": {},
   "outputs": [
    {
     "name": "stdout",
     "output_type": "stream",
     "text": [
      "(67, 10) (33, 10)\n",
      "[[ 1.          1.76405235  0.40015721  0.97873798  2.2408932   1.86755799\n",
      "  -0.97727788  0.95008842 -0.15135721 -0.10321885]\n",
      " [ 1.          0.4105985   0.14404357  1.45427351  0.76103773  0.12167502\n",
      "   0.44386323  0.33367433  1.49407907 -0.20515826]\n",
      " [ 1.          0.3130677  -0.85409574 -2.55298982  0.6536186   0.8644362\n",
      "  -0.74216502  2.26975462 -1.45436567  0.04575852]\n",
      " [ 1.         -0.18718385  1.53277921  1.46935877  0.15494743  0.37816252\n",
      "  -0.88778575 -1.98079647 -0.34791215  0.15634897]\n",
      " [ 1.          1.23029068  1.20237985 -0.38732682 -0.30230275 -1.04855297\n",
      "  -1.42001794 -1.70627019  1.9507754  -0.50965218]\n",
      " [ 1.         -0.4380743  -1.25279536  0.77749036 -1.61389785 -0.21274028\n",
      "  -0.89546656  0.3869025  -0.51080514 -1.18063218]\n",
      " [ 1.         -0.02818223  0.42833187  0.06651722  0.3024719  -0.63432209\n",
      "  -0.36274117 -0.67246045 -0.35955316 -0.81314628]\n",
      " [ 1.         -1.7262826   0.17742614 -0.40178094 -1.63019835  0.46278226\n",
      "  -0.90729836  0.0519454   0.72909056  0.12898291]\n",
      " [ 1.          1.13940068 -1.23482582  0.40234164 -0.68481009 -0.87079715\n",
      "  -0.57884966 -0.31155253  0.05616534 -1.16514984]\n",
      " [ 1.          0.90082649  0.46566244 -1.53624369  1.48825219  1.89588918\n",
      "   1.17877957 -0.17992484 -1.07075262  1.05445173]]\n",
      "['positive' 'positive' 'positive' 'positive' 'negative' 'negative'\n",
      " 'positive' 'negative' 'negative' 'positive']\n",
      "[[ 1.          1.76405235  0.40015721  0.97873798  2.2408932   1.86755799\n",
      "  -0.97727788  0.95008842 -0.15135721 -0.10321885]\n",
      " [ 1.          0.4105985   0.14404357  1.45427351  0.76103773  0.12167502\n",
      "   0.44386323  0.33367433  1.49407907 -0.20515826]\n",
      " [ 1.          0.3130677  -0.85409574 -2.55298982  0.6536186   0.8644362\n",
      "  -0.74216502  2.26975462 -1.45436567  0.04575852]\n",
      " [ 1.         -0.18718385  1.53277921  1.46935877  0.15494743  0.37816252\n",
      "  -0.88778575 -1.98079647 -0.34791215  0.15634897]\n",
      " [ 1.         -0.02818223  0.42833187  0.06651722  0.3024719  -0.63432209\n",
      "  -0.36274117 -0.67246045 -0.35955316 -0.81314628]\n",
      " [ 1.          0.90082649  0.46566244 -1.53624369  1.48825219  1.89588918\n",
      "   1.17877957 -0.17992484 -1.07075262  1.05445173]\n",
      " [ 1.         -0.40317695  1.22244507  0.20827498  0.97663904  0.3563664\n",
      "   0.70657317  0.01050002  1.78587049  0.12691209]\n",
      " [ 1.          0.40198936  1.8831507  -1.34775906 -1.270485    0.96939671\n",
      "  -1.17312341  1.94362119 -0.41361898 -0.74745481]\n",
      " [ 1.          1.92294203  1.48051479  1.86755896  0.90604466 -0.86122569\n",
      "   1.91006495 -0.26800337  0.8024564   0.94725197]\n",
      " [ 1.         -0.15501009  0.61407937  0.92220667  0.37642553 -1.09940079\n",
      "   0.29823817  1.3263859  -0.69456786 -0.14963454]]\n"
     ]
    }
   ],
   "source": [
    "# 3. (11.) \n",
    "# no need to convert to ndarray in my solution, already is\n",
    "# c = np.array(c) \n",
    "\n",
    "# there are 100 rows in X, 100 values in c; this boolean indexing, will allocate an entire row of X based on a\n",
    "# value of c as we iterate across it\n",
    "Xp = X[c == \"positive\"] \n",
    "Xn = X[c == \"negative\"]\n",
    "\n",
    "print(Xp.shape, Xn.shape)\n",
    "print(X[0:10,])\n",
    "print(c[0:10])\n",
    "print(Xp[0:10,])"
   ]
  },
  {
   "cell_type": "markdown",
   "metadata": {},
   "source": [
    "1. (12.) Generate a meshgrid on the interval [0, 1], of shape 100x100.  Then compute the Euclidean Distance given by $d = \\sqrt{x^2 + y^2}$ from the origin for each unit, $(x_n, y_n)$, in the grid.  **Bonus:** Do it with a one-liner.\n",
    "1. (13.) Generate a set of 100 values, $p$,  on the interval $[0, 2\\pi]$ and two vectors, $\\vec{x}, \\vec{y}$ such that $\\vec{x} = cos(p)$ and $\\vec{y} = sin(p)$.  Then compute the vector $\\vec{r} = \\sqrt{x^2 + y^2}$.  Comment on your results."
   ]
  },
  {
   "cell_type": "code",
   "execution_count": 16,
   "metadata": {},
   "outputs": [
    {
     "name": "stdout",
     "output_type": "stream",
     "text": [
      "<class 'numpy.ndarray'> (100, 100)\n"
     ]
    },
    {
     "data": {
      "text/plain": [
       "array([[ 0.        ,  0.01010101,  0.02020202, ...,  0.97979798,\n",
       "         0.98989899,  1.        ],\n",
       "       [ 0.01010101,  0.01428499,  0.02258655, ...,  0.97985005,\n",
       "         0.98995052,  1.00005101],\n",
       "       [ 0.02020202,  0.02258655,  0.02856997, ...,  0.98000623,\n",
       "         0.99010511,  1.00020404],\n",
       "       ..., \n",
       "       [ 0.97979798,  0.97985005,  0.98000623, ...,  1.38564359,\n",
       "         1.3928044 ,  1.40000146],\n",
       "       [ 0.98989899,  0.98995052,  0.99010511, ...,  1.3928044 ,\n",
       "         1.39992858,  1.4070892 ],\n",
       "       [ 1.        ,  1.00005101,  1.00020404, ...,  1.40000146,\n",
       "         1.4070892 ,  1.41421356]])"
      ]
     },
     "execution_count": 16,
     "metadata": {},
     "output_type": "execute_result"
    }
   ],
   "source": [
    "# 1. (12.)\n",
    "\n",
    "import numpy as np\n",
    "x_coords = np.linspace(0, 1, 100)  # [0, 0.01, .0.2, ..., 0.99]\n",
    "y_coords = np.linspace(0, 1, 100)\n",
    "# [0, 0.01, .0.2, ..., 0.99]\n",
    "X, Y = np.meshgrid(x_coords, y_coords)\n",
    "d = np.sqrt(X**2 + Y**2)\n",
    "print(type(d), d.shape)\n",
    "d"
   ]
  },
  {
   "cell_type": "code",
   "execution_count": 17,
   "metadata": {},
   "outputs": [
    {
     "name": "stdout",
     "output_type": "stream",
     "text": [
      "<class 'list'>\n"
     ]
    },
    {
     "data": {
      "text/plain": [
       "array([ 0.        ,  0.01010101,  0.02020202, ...,  1.40000146,\n",
       "        1.4070892 ,  1.41421356])"
      ]
     },
     "execution_count": 17,
     "metadata": {},
     "output_type": "execute_result"
    }
   ],
   "source": [
    "# 1. (12.) video soln\n",
    "xx, yy = np.meshgrid(np.linspace(0, 1, 100), np.linspace(0, 1, 100))\n",
    "d = [np.sqrt(xx[i, j]**2 + yy[i, j]**2) for i in range(100) for j in range(100)]\n",
    "print(type(d))\n",
    "d = np.array(d)\n",
    "d"
   ]
  },
  {
   "cell_type": "code",
   "execution_count": 18,
   "metadata": {},
   "outputs": [
    {
     "name": "stdout",
     "output_type": "stream",
     "text": [
      "<class 'numpy.ndarray'>\n"
     ]
    },
    {
     "data": {
      "text/plain": [
       "array([ 1.,  1.,  1.,  1.,  1.,  1.,  1.,  1.,  1.,  1.,  1.,  1.,  1.,\n",
       "        1.,  1.,  1.,  1.,  1.,  1.,  1.,  1.,  1.,  1.,  1.,  1.,  1.,\n",
       "        1.,  1.,  1.,  1.,  1.,  1.,  1.,  1.,  1.,  1.,  1.,  1.,  1.,\n",
       "        1.,  1.,  1.,  1.,  1.,  1.,  1.,  1.,  1.,  1.,  1.,  1.,  1.,\n",
       "        1.,  1.,  1.,  1.,  1.,  1.,  1.,  1.,  1.,  1.,  1.,  1.,  1.,\n",
       "        1.,  1.,  1.,  1.,  1.,  1.,  1.,  1.,  1.,  1.,  1.,  1.,  1.,\n",
       "        1.,  1.,  1.,  1.,  1.,  1.,  1.,  1.,  1.,  1.,  1.,  1.,  1.,\n",
       "        1.,  1.,  1.,  1.,  1.,  1.,  1.,  1.,  1.])"
      ]
     },
     "execution_count": 18,
     "metadata": {},
     "output_type": "execute_result"
    }
   ],
   "source": [
    "# 1. (13.)\n",
    "p = np.linspace(0, 2 * np.pi, 100)\n",
    "x, y = np.cos(p), np.sin(p)\n",
    "r = np.sqrt(x**2 + y**2)\n",
    "print(type(r))\n",
    "r = np.array(r)\n",
    "r"
   ]
  },
  {
   "cell_type": "markdown",
   "metadata": {},
   "source": [
    "1. (14.) Generate two lists, `a`, `b`, consisting of 10 randomly drawn values from a normal and uniform distribution respectively.  Compute the mean and median of each.\n",
    "1. (15.) Using `a` from part 14, create a new list `c` by calling `a = c`.  Now change the shape of `c`.  Comment on your results.\n",
    "1. (16.) How would you solve the problem that appeared in part 15?"
   ]
  },
  {
   "cell_type": "code",
   "execution_count": 19,
   "metadata": {},
   "outputs": [
    {
     "name": "stdout",
     "output_type": "stream",
     "text": [
      "mean of a: -0.0386798287018\n",
      "median of a:  0.0561175985453\n",
      "mean of b:  0.556127786663\n",
      "median of b:  0.60935027913\n"
     ]
    }
   ],
   "source": [
    "# 1. (14.)\n",
    "a = np.random.randn(10)\n",
    "b = np.random.rand(10)\n",
    "print(\"mean of a:\", a.mean())\n",
    "print(\"median of a: \", np.median(a))\n",
    "print(\"mean of b: \", b.mean())\n",
    "print(\"median of b: \", np.median(b))\n"
   ]
  },
  {
   "cell_type": "code",
   "execution_count": 20,
   "metadata": {},
   "outputs": [
    {
     "data": {
      "text/plain": [
       "array([ 0.,  0.,  0.,  0.,  0.,  0.,  0.,  0.,  0.,  0.])"
      ]
     },
     "execution_count": 20,
     "metadata": {},
     "output_type": "execute_result"
    }
   ],
   "source": [
    "# 2 (15.)\n",
    "c = a\n",
    "c - a\n",
    "# if arrays are identical then output will be zero's..."
   ]
  },
  {
   "cell_type": "code",
   "execution_count": 21,
   "metadata": {},
   "outputs": [
    {
     "data": {
      "text/plain": [
       "(5, 2)"
      ]
     },
     "execution_count": 21,
     "metadata": {},
     "output_type": "execute_result"
    }
   ],
   "source": [
    "c.shape = (5,2)\n",
    "a.shape # shape of a changes when c shape changes"
   ]
  },
  {
   "cell_type": "code",
   "execution_count": 22,
   "metadata": {},
   "outputs": [
    {
     "name": "stdout",
     "output_type": "stream",
     "text": [
      "(10,) (5, 2)\n"
     ]
    }
   ],
   "source": [
    "# 3. (16.)\n",
    "a = np.random.randn(10) #regenerate a again\n",
    "c = a.copy() # copy breaks the link between the objects\n",
    "c.shape = (5,2)\n",
    "print(a.shape, c.shape)"
   ]
  },
  {
   "cell_type": "code",
   "execution_count": null,
   "metadata": {
    "collapsed": true
   },
   "outputs": [],
   "source": []
  },
  {
   "cell_type": "code",
   "execution_count": null,
   "metadata": {
    "collapsed": true
   },
   "outputs": [],
   "source": []
  }
 ],
 "metadata": {
  "anaconda-cloud": {},
  "kernelspec": {
   "display_name": "Python 3",
   "language": "python",
   "name": "python3"
  },
  "language_info": {
   "codemirror_mode": {
    "name": "ipython",
    "version": 3
   },
   "file_extension": ".py",
   "mimetype": "text/x-python",
   "name": "python",
   "nbconvert_exporter": "python",
   "pygments_lexer": "ipython3",
   "version": "3.6.3"
  }
 },
 "nbformat": 4,
 "nbformat_minor": 2
}
